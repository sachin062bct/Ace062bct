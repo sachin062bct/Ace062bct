{
 "cells": [
  {
   "cell_type": "markdown",
   "metadata": {},
   "source": [
    "Linear Algebra\n",
    "\n",
    "a) Matrices"
   ]
  },
  {
   "cell_type": "code",
   "execution_count": 17,
   "metadata": {},
   "outputs": [
    {
     "name": "stdout",
     "output_type": "stream",
     "text": [
      "a. A + B:\n",
      "[[ 3  1]\n",
      " [-3  7]]\n",
      "\n",
      "\n",
      "b. AB:\n",
      "[[ 5  0]\n",
      " [-9 12]]\n",
      "\n",
      "\n",
      "c. 3A - 2B\n",
      "[[ 4 -7]\n",
      " [ 6  1]]\n"
     ]
    }
   ],
   "source": [
    "import numpy as np\n",
    "A = np.array([\n",
    "    [2, -1],\n",
    "    [0, 3],\n",
    "    ])\n",
    "B = np.array([\n",
    "    [1, 2],\n",
    "    [-3, 4],\n",
    "    ])\n",
    "# matrix addition A+B              \n",
    "matrix_sum = A + B\n",
    "print(\"a. A + B:\")\n",
    "print(matrix_sum)\n",
    "print(\"\\n\")\n",
    "\n",
    "# Matrix Multiplication\n",
    "matrix_product = np.matmul(A,B)\n",
    "print(\"b. AB:\")\n",
    "print(matrix_product)\n",
    "print(\"\\n\")\n",
    "\n",
    "# c. 3A - 2B\n",
    "scalar_operation = 3*A - 2*B\n",
    "print(\"c. 3A - 2B\")\n",
    "print(scalar_operation)"
   ]
  },
  {
   "cell_type": "markdown",
   "metadata": {},
   "source": [
    "b) Determinants and Inverses"
   ]
  },
  {
   "cell_type": "code",
   "execution_count": 18,
   "metadata": {},
   "outputs": [
    {
     "name": "stdout",
     "output_type": "stream",
     "text": [
      "Determinant of A:\n",
      "6.0\n",
      "\n",
      "\n",
      "Is A invertible?\n",
      "Yes, because det(A) = 6.0 ≠ 0\n",
      "\n",
      "\n",
      "A inverse:\n",
      "[[0.5        0.16666667]\n",
      " [0.         0.33333333]]\n",
      "\n",
      "Verification (A * A^(-1) should give Identity matrix):\n",
      "[[1. 0.]\n",
      " [0. 1.]]\n"
     ]
    }
   ],
   "source": [
    "import numpy as np\n",
    "\n",
    "# Define matrix A\n",
    "A = np.array([[2, -1],\n",
    "              [0, 3]])\n",
    "\n",
    "# Calculate determinant\n",
    "det_A = np.linalg.det(A)\n",
    "print(\"Determinant of A:\")\n",
    "print(det_A)\n",
    "print(\"\\n\")\n",
    "\n",
    "# Check if matrix is invertible (det ≠ 0)\n",
    "print(\"Is A invertible?\")\n",
    "print(f\"Yes, because det(A) = {det_A} ≠ 0\")\n",
    "print(\"\\n\")\n",
    "\n",
    "# Calculate inverse if matrix is invertible\n",
    "if det_A != 0:\n",
    "    A_inv = np.linalg.inv(A)\n",
    "    print(\"A inverse:\")\n",
    "    print(A_inv)\n",
    "    \n",
    "    # Verify the inverse by multiplying A * A^(-1)\n",
    "    print(\"\\nVerification (A * A^(-1) should give Identity matrix):\")\n",
    "    print(np.round(np.matmul(A, A_inv), decimals=10))"
   ]
  },
  {
   "cell_type": "markdown",
   "metadata": {},
   "source": [
    "c) Eigen Values and Eigenvectors"
   ]
  },
  {
   "cell_type": "code",
   "execution_count": 19,
   "metadata": {},
   "outputs": [
    {
     "name": "stdout",
     "output_type": "stream",
     "text": [
      "Eigenvalues:\n",
      "[3. 2.]\n",
      "\n",
      "\n",
      "Eigenvectors (as columns):\n",
      "[[ 0.70710678 -0.4472136 ]\n",
      " [-0.70710678  0.89442719]]\n",
      "\n",
      "\n",
      "Verification of Cv = λv for each eigenpair:\n",
      "\n",
      "Eigenpair 1:\n",
      "λ = 3.00\n",
      "v = [ 0.70710678 -0.70710678]\n",
      "\n",
      "Cv:\n",
      "[ 2.12132034 -2.12132034]\n",
      "λv:\n",
      "[ 2.12132034 -2.12132034]\n",
      "Cv ≈ λv: True\n",
      "\n",
      "Eigenpair 2:\n",
      "λ = 2.00\n",
      "v = [-0.4472136   0.89442719]\n",
      "\n",
      "Cv:\n",
      "[-0.89442719  1.78885438]\n",
      "λv:\n",
      "[-0.89442719  1.78885438]\n",
      "Cv ≈ λv: True\n"
     ]
    }
   ],
   "source": [
    "import numpy as np\n",
    "\n",
    "# Define matrix C\n",
    "C = np.array([[4, 1],\n",
    "              [-2, 1]])\n",
    "\n",
    "# Calculate eigenvalues and eigenvectors\n",
    "eigenvalues, eigenvectors = np.linalg.eig(C)\n",
    "\n",
    "# Print eigenvalues\n",
    "print(\"Eigenvalues:\")\n",
    "print(eigenvalues)\n",
    "print(\"\\n\")\n",
    "\n",
    "# Print eigenvectors\n",
    "print(\"Eigenvectors (as columns):\")\n",
    "print(eigenvectors)\n",
    "print(\"\\n\")\n",
    "\n",
    "# Verify the eigenvalue equation Cv = λv for each eigenpair\n",
    "print(\"Verification of Cv = λv for each eigenpair:\")\n",
    "for i in range(len(eigenvalues)):\n",
    "    print(f\"\\nEigenpair {i+1}:\")\n",
    "    print(f\"λ = {eigenvalues[i]:.2f}\")\n",
    "    print(f\"v = {eigenvectors[:, i]}\")\n",
    "    \n",
    "    # Calculate Cv\n",
    "    Cv = np.dot(C, eigenvectors[:, i])\n",
    "    # Calculate λv\n",
    "    lambda_v = eigenvalues[i] * eigenvectors[:, i]\n",
    "    \n",
    "    print(\"\\nCv:\")\n",
    "    print(Cv)\n",
    "    print(\"λv:\")\n",
    "    print(lambda_v)\n",
    "    print(\"Cv ≈ λv:\", np.allclose(Cv,lambda_v))"
   ]
  },
  {
   "cell_type": "markdown",
   "metadata": {},
   "source": [
    "4. \n",
    "You are given a dataset of cars with the following features:\n",
    "\n",
    "Number of cylinders (x1​)\n",
    "\n",
    "Engine size in liters (x2​)\n",
    "\n",
    "Horsepower (x3)\n",
    "car 1:\n",
    "x1: 4\n",
    "x2:  1.5\n",
    "x3: 100\n",
    "and price: 20\n",
    "\n",
    "car 2:\n",
    "x1: 6\n",
    "x2:  2.0\n",
    "x3: 150\n",
    "and price: 30\n",
    "\n",
    "Then, find the price of a car 3 with features\n",
    "x1: 8\n",
    "x2:  3.0\n",
    "x3: 200\n",
    "price:?\n",
    "\n",
    "Hints:\n",
    "1. Represent the given dataset as a matrix equation X.T*β=y, where X is the feature matrix, β is the coefficient vector, and y is the price vector  \n",
    "2. Compute β (the coefficients) using the normal equation:\n",
    "β=(X.T * X)^−1  X.T y\n",
    "\n",
    "where,\n",
    "X.T --> transpose matrix"
   ]
  },
  {
   "cell_type": "code",
   "execution_count": 21,
   "metadata": {},
   "outputs": [
    {
     "name": "stdout",
     "output_type": "stream",
     "text": [
      "Coefficient vector β:\n",
      "[7.98722094e-03 1.43695216e-06 1.99680491e-01]\n",
      "\n",
      "\n",
      "Predicted price for car 3:\n",
      "40.00\n",
      "\n",
      "Linear equation:\n",
      "Price = 0.01x₁ + 0.00x₂ + 0.20x₃\n"
     ]
    }
   ],
   "source": [
    "import numpy as np\n",
    "\n",
    "# Step 1: Create the feature matrix X (without intercept term to reduce parameters)\n",
    "X = np.array([\n",
    "    [4, 1.5, 100],  # First car\n",
    "    [6, 2.0, 150]   # Second car\n",
    "])\n",
    "\n",
    "# Create the price vector y\n",
    "y = np.array([20, 30])\n",
    "\n",
    "# Add small regularization term to make matrix invertible\n",
    "lambda_reg = 1e-5\n",
    "\n",
    "# Calculate β using ridge regression formula: β = (X.T * X + λI)^(-1) * X.T * y\n",
    "X_transpose = X.transpose()\n",
    "X_transpose_X = np.dot(X_transpose, X)\n",
    "identity_matrix = np.eye(X_transpose_X.shape[0])\n",
    "regularized_matrix = X_transpose_X + lambda_reg * identity_matrix\n",
    "X_transpose_X_inv = np.linalg.inv(regularized_matrix)\n",
    "X_transpose_y = np.dot(X_transpose, y)\n",
    "beta = np.dot(X_transpose_X_inv, X_transpose_y)\n",
    "\n",
    "print(\"Coefficient vector β:\")\n",
    "print(beta)\n",
    "print(\"\\n\")\n",
    "\n",
    "# Create feature vector for the new car (without intercept)\n",
    "X_new = np.array([8, 3.0, 200])\n",
    "\n",
    "# Predict the price for the new car\n",
    "predicted_price = np.dot(X_new, beta)\n",
    "\n",
    "print(\"Predicted price for car 3:\")\n",
    "print(f\"{predicted_price:.2f}\")\n",
    "\n",
    "# Show the equation\n",
    "print(\"\\nLinear equation:\")\n",
    "print(f\"Price = {beta[0]:.2f}x₁ + {beta[1]:.2f}x₂ + {beta[2]:.2f}x₃\")"
   ]
  }
 ],
 "metadata": {
  "kernelspec": {
   "display_name": "Python 3",
   "language": "python",
   "name": "python3"
  },
  "language_info": {
   "codemirror_mode": {
    "name": "ipython",
    "version": 3
   },
   "file_extension": ".py",
   "mimetype": "text/x-python",
   "name": "python",
   "nbconvert_exporter": "python",
   "pygments_lexer": "ipython3",
   "version": "3.13.0"
  }
 },
 "nbformat": 4,
 "nbformat_minor": 2
}
